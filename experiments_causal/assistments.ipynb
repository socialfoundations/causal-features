{
 "cells": [
  {
   "cell_type": "code",
   "execution_count": 2,
   "metadata": {},
   "outputs": [
    {
     "name": "stderr",
     "output_type": "stream",
     "text": [
      "/opt/anaconda3/envs/causaldiscovery/lib/python3.9/site-packages/tqdm/auto.py:21: TqdmWarning: IProgress not found. Please update jupyter and ipywidgets. See https://ipywidgets.readthedocs.io/en/stable/user_install.html\n",
      "  from .autonotebook import tqdm as notebook_tqdm\n"
     ]
    }
   ],
   "source": [
    "\"\"\"Python script to run experiment and record the performance.\"\"\"\n",
    "from pathlib import Path\n",
    "from sklearn.metrics import accuracy_score\n",
    "from statsmodels.stats.proportion import proportion_confint\n",
    "\n",
    "\n",
    "from tableshift import get_dataset\n",
    "from tableshift.models.training import train\n",
    "from tableshift.models.utils import get_estimator\n",
    "from tableshift.models.default_hparams import get_default_config\n",
    "from sklearn.model_selection import cross_val_score\n",
    "\n",
    "import xgboost as xgb\n"
   ]
  },
  {
   "cell_type": "markdown",
   "metadata": {},
   "source": [
    "# Experiment with all features"
   ]
  },
  {
   "cell_type": "code",
   "execution_count": null,
   "metadata": {},
   "outputs": [],
   "source": [
    "experiment = \"assistments\"\n",
    "model = \"xgb\"\n",
    "cache_dir = \"../tmp\"\n",
    "save_dir= \"../tmp\""
   ]
  },
  {
   "cell_type": "code",
   "execution_count": 3,
   "metadata": {},
   "outputs": [],
   "source": [
    "dset = get_dataset(experiment, cache_dir)"
   ]
  },
  {
   "cell_type": "markdown",
   "metadata": {},
   "source": [
    "Train on in-domain train set"
   ]
  },
  {
   "cell_type": "code",
   "execution_count": 4,
   "metadata": {},
   "outputs": [],
   "source": [
    "estimator = xgb.XGBClassifier()\n",
    "X_train, y_train, _, _ = dset.get_pandas(\"train\")\n",
    "estimator = estimator.fit(X_train,y_train)"
   ]
  },
  {
   "cell_type": "markdown",
   "metadata": {},
   "source": [
    "Test in-domain train on id test."
   ]
  },
  {
   "cell_type": "code",
   "execution_count": 5,
   "metadata": {},
   "outputs": [
    {
     "data": {
      "text/plain": [
       "0.9404725283794633"
      ]
     },
     "execution_count": 5,
     "metadata": {},
     "output_type": "execute_result"
    }
   ],
   "source": [
    "X_te, y_te, _, _ = dset.get_pandas(\"id_test\")\n",
    "yhat_te = estimator.predict(X_te)\n",
    "acc = accuracy_score(y_true=y_te, y_pred=yhat_te)\n",
    "acc"
   ]
  },
  {
   "cell_type": "markdown",
   "metadata": {},
   "source": [
    "Test in-domain train on ood test."
   ]
  },
  {
   "cell_type": "code",
   "execution_count": 6,
   "metadata": {},
   "outputs": [
    {
     "data": {
      "text/plain": [
       "Index(['hint_count', 'attempt_count', 'ms_first_response', 'position',\n",
       "       'overlap_time', 'Average_confidence(FRUSTRATED)',\n",
       "       'Average_confidence(CONFUSED)', 'Average_confidence(CONCENTRATING)',\n",
       "       'Average_confidence(BORED)', 'problem_type_algebra',\n",
       "       'problem_type_fill_in_1', 'problem_type_choose_1',\n",
       "       'problem_type_choose_n', 'problem_type_rank',\n",
       "       'problem_type_open_response', 'tutor_mode_tutor', 'type_LinearSection',\n",
       "       'type_MasterySection', 'type_RandomChildOrderSection',\n",
       "       'type_RandomIterateSection', 'type_PlacementsSection',\n",
       "       'type_ChooseConditionSection', 'type_NumericLimitSection',\n",
       "       'bottom_hint', 'skill_id', 'first_action'],\n",
       "      dtype='object')"
      ]
     },
     "execution_count": 6,
     "metadata": {},
     "output_type": "execute_result"
    }
   ],
   "source": [
    "X_te, y_te, _, _ = dset.get_pandas(\"ood_test\")\n",
    "X_te.columns"
   ]
  },
  {
   "cell_type": "code",
   "execution_count": 7,
   "metadata": {},
   "outputs": [
    {
     "data": {
      "text/plain": [
       "0.5839454354669464"
      ]
     },
     "execution_count": 7,
     "metadata": {},
     "output_type": "execute_result"
    }
   ],
   "source": [
    "yhat_te = estimator.predict(X_te)\n",
    "acc = accuracy_score(y_true=y_te, y_pred=yhat_te)\n",
    "acc"
   ]
  },
  {
   "cell_type": "code",
   "execution_count": 8,
   "metadata": {},
   "outputs": [
    {
     "data": {
      "text/plain": [
       "(0.5614396708422, 0.6061924645119001)"
      ]
     },
     "execution_count": 8,
     "metadata": {},
     "output_type": "execute_result"
    }
   ],
   "source": [
    "nobs = len(y_te)\n",
    "count = nobs * acc\n",
    "# beta : Clopper-Pearson interval based on Beta distribution\n",
    "acc_conf = proportion_confint(count, nobs, alpha=0.05, method=\"beta\")\n",
    "acc_conf"
   ]
  },
  {
   "cell_type": "markdown",
   "metadata": {},
   "source": [
    "Perform cross-validation on ood test set"
   ]
  },
  {
   "cell_type": "code",
   "execution_count": 9,
   "metadata": {},
   "outputs": [
    {
     "data": {
      "text/plain": [
       "array([0.7513089 , 0.7664042 , 0.77952756, 0.75853018, 0.75328084])"
      ]
     },
     "execution_count": 9,
     "metadata": {},
     "output_type": "execute_result"
    }
   ],
   "source": [
    "X_te, y_te, _, _ = dset.get_pandas(\"ood_test\")\n",
    "estimator = xgb.XGBClassifier()\n",
    "cross_val_score(estimator, X_te, y_te, cv=5)"
   ]
  },
  {
   "cell_type": "markdown",
   "metadata": {},
   "source": [
    "# Experiments with a random subset (no 228)"
   ]
  },
  {
   "cell_type": "code",
   "execution_count": 10,
   "metadata": {},
   "outputs": [],
   "source": [
    "experiment = \"assistments_random_test_228\"\n",
    "model = \"xgb\"\n",
    "cache_dir = \"../tmp\"\n",
    "save_dir= \"../tmp\""
   ]
  },
  {
   "cell_type": "code",
   "execution_count": 11,
   "metadata": {},
   "outputs": [
    {
     "name": "stdout",
     "output_type": "stream",
     "text": [
      "skillbuilder-data-2009-2010.zip: Skipping, found more recently modified local copy (use --force to force download)\n"
     ]
    }
   ],
   "source": [
    "dset = get_dataset(experiment, cache_dir)"
   ]
  },
  {
   "cell_type": "markdown",
   "metadata": {},
   "source": [
    "Train on in-domain train set"
   ]
  },
  {
   "cell_type": "code",
   "execution_count": 12,
   "metadata": {},
   "outputs": [],
   "source": [
    "estimator = xgb.XGBClassifier()\n",
    "X_train, y_train, _, _ = dset.get_pandas(\"train\")\n",
    "estimator = estimator.fit(X_train,y_train)"
   ]
  },
  {
   "cell_type": "markdown",
   "metadata": {},
   "source": [
    "Test in-domain train on id test."
   ]
  },
  {
   "cell_type": "code",
   "execution_count": 13,
   "metadata": {},
   "outputs": [
    {
     "data": {
      "text/plain": [
       "0.9259141594399299"
      ]
     },
     "execution_count": 13,
     "metadata": {},
     "output_type": "execute_result"
    }
   ],
   "source": [
    "X_te, y_te, _, _ = dset.get_pandas(\"id_test\")\n",
    "yhat_te = estimator.predict(X_te)\n",
    "acc = accuracy_score(y_true=y_te, y_pred=yhat_te)\n",
    "acc"
   ]
  },
  {
   "cell_type": "markdown",
   "metadata": {},
   "source": [
    "Test in-domain train on ood test."
   ]
  },
  {
   "cell_type": "code",
   "execution_count": 14,
   "metadata": {},
   "outputs": [
    {
     "data": {
      "text/plain": [
       "Index(['hint_count', 'attempt_count', 'ms_first_response', 'overlap_time',\n",
       "       'Average_confidence(FRUSTRATED)', 'Average_confidence(CONFUSED)',\n",
       "       'Average_confidence(CONCENTRATING)', 'problem_type_choose_1',\n",
       "       'problem_type_algebra', 'problem_type_fill_in_1', 'problem_type_rank',\n",
       "       'problem_type_choose_n', 'problem_type_open_response', 'bottom_hint',\n",
       "       'first_action'],\n",
       "      dtype='object')"
      ]
     },
     "execution_count": 14,
     "metadata": {},
     "output_type": "execute_result"
    }
   ],
   "source": [
    "X_te, y_te, _, _ = dset.get_pandas(\"ood_test\")\n",
    "X_te.columns"
   ]
  },
  {
   "cell_type": "code",
   "execution_count": 15,
   "metadata": {},
   "outputs": [
    {
     "data": {
      "text/plain": [
       "0.9100055897149245"
      ]
     },
     "execution_count": 15,
     "metadata": {},
     "output_type": "execute_result"
    }
   ],
   "source": [
    "yhat_te = estimator.predict(X_te)\n",
    "acc = accuracy_score(y_true=y_te, y_pred=yhat_te)\n",
    "acc"
   ]
  },
  {
   "cell_type": "code",
   "execution_count": 16,
   "metadata": {},
   "outputs": [
    {
     "data": {
      "text/plain": [
       "(0.9048577313117038, 0.9149619549378666)"
      ]
     },
     "execution_count": 16,
     "metadata": {},
     "output_type": "execute_result"
    }
   ],
   "source": [
    "nobs = len(y_te)\n",
    "count = nobs * acc\n",
    "# beta : Clopper-Pearson interval based on Beta distribution\n",
    "acc_conf = proportion_confint(count, nobs, alpha=0.05, method=\"beta\")\n",
    "acc_conf"
   ]
  },
  {
   "cell_type": "markdown",
   "metadata": {},
   "source": [
    "Perform cross-validation on ood test set"
   ]
  },
  {
   "cell_type": "code",
   "execution_count": 17,
   "metadata": {},
   "outputs": [
    {
     "data": {
      "text/plain": [
       "array([0.9249501 , 0.92255489, 0.92694611, 0.92731629, 0.91733227])"
      ]
     },
     "execution_count": 17,
     "metadata": {},
     "output_type": "execute_result"
    }
   ],
   "source": [
    "X_te, y_te, _, _ = dset.get_pandas(\"ood_test\")\n",
    "estimator = estimator = xgb.XGBClassifier()\n",
    "cross_val_score(estimator, X_te, y_te, cv=5)"
   ]
  },
  {
   "cell_type": "markdown",
   "metadata": {},
   "source": [
    "# Experiments with a random subset (but skill)"
   ]
  },
  {
   "cell_type": "code",
   "execution_count": 18,
   "metadata": {},
   "outputs": [
    {
     "name": "stdout",
     "output_type": "stream",
     "text": [
      "skillbuilder-data-2009-2010.zip: Skipping, found more recently modified local copy (use --force to force download)\n"
     ]
    }
   ],
   "source": [
    "experiment = \"assistments_but_skill\"\n",
    "model = \"xgb\"\n",
    "cache_dir = \"../tmp\"\n",
    "save_dir= \"../tmp\"\n",
    "dset = get_dataset(experiment, cache_dir)"
   ]
  },
  {
   "cell_type": "markdown",
   "metadata": {},
   "source": [
    "Train on in-domain train set"
   ]
  },
  {
   "cell_type": "code",
   "execution_count": 19,
   "metadata": {},
   "outputs": [
    {
     "data": {
      "text/html": [
       "<style>#sk-container-id-1 {color: black;background-color: white;}#sk-container-id-1 pre{padding: 0;}#sk-container-id-1 div.sk-toggleable {background-color: white;}#sk-container-id-1 label.sk-toggleable__label {cursor: pointer;display: block;width: 100%;margin-bottom: 0;padding: 0.3em;box-sizing: border-box;text-align: center;}#sk-container-id-1 label.sk-toggleable__label-arrow:before {content: \"▸\";float: left;margin-right: 0.25em;color: #696969;}#sk-container-id-1 label.sk-toggleable__label-arrow:hover:before {color: black;}#sk-container-id-1 div.sk-estimator:hover label.sk-toggleable__label-arrow:before {color: black;}#sk-container-id-1 div.sk-toggleable__content {max-height: 0;max-width: 0;overflow: hidden;text-align: left;background-color: #f0f8ff;}#sk-container-id-1 div.sk-toggleable__content pre {margin: 0.2em;color: black;border-radius: 0.25em;background-color: #f0f8ff;}#sk-container-id-1 input.sk-toggleable__control:checked~div.sk-toggleable__content {max-height: 200px;max-width: 100%;overflow: auto;}#sk-container-id-1 input.sk-toggleable__control:checked~label.sk-toggleable__label-arrow:before {content: \"▾\";}#sk-container-id-1 div.sk-estimator input.sk-toggleable__control:checked~label.sk-toggleable__label {background-color: #d4ebff;}#sk-container-id-1 div.sk-label input.sk-toggleable__control:checked~label.sk-toggleable__label {background-color: #d4ebff;}#sk-container-id-1 input.sk-hidden--visually {border: 0;clip: rect(1px 1px 1px 1px);clip: rect(1px, 1px, 1px, 1px);height: 1px;margin: -1px;overflow: hidden;padding: 0;position: absolute;width: 1px;}#sk-container-id-1 div.sk-estimator {font-family: monospace;background-color: #f0f8ff;border: 1px dotted black;border-radius: 0.25em;box-sizing: border-box;margin-bottom: 0.5em;}#sk-container-id-1 div.sk-estimator:hover {background-color: #d4ebff;}#sk-container-id-1 div.sk-parallel-item::after {content: \"\";width: 100%;border-bottom: 1px solid gray;flex-grow: 1;}#sk-container-id-1 div.sk-label:hover label.sk-toggleable__label {background-color: #d4ebff;}#sk-container-id-1 div.sk-serial::before {content: \"\";position: absolute;border-left: 1px solid gray;box-sizing: border-box;top: 0;bottom: 0;left: 50%;z-index: 0;}#sk-container-id-1 div.sk-serial {display: flex;flex-direction: column;align-items: center;background-color: white;padding-right: 0.2em;padding-left: 0.2em;position: relative;}#sk-container-id-1 div.sk-item {position: relative;z-index: 1;}#sk-container-id-1 div.sk-parallel {display: flex;align-items: stretch;justify-content: center;background-color: white;position: relative;}#sk-container-id-1 div.sk-item::before, #sk-container-id-1 div.sk-parallel-item::before {content: \"\";position: absolute;border-left: 1px solid gray;box-sizing: border-box;top: 0;bottom: 0;left: 50%;z-index: -1;}#sk-container-id-1 div.sk-parallel-item {display: flex;flex-direction: column;z-index: 1;position: relative;background-color: white;}#sk-container-id-1 div.sk-parallel-item:first-child::after {align-self: flex-end;width: 50%;}#sk-container-id-1 div.sk-parallel-item:last-child::after {align-self: flex-start;width: 50%;}#sk-container-id-1 div.sk-parallel-item:only-child::after {width: 0;}#sk-container-id-1 div.sk-dashed-wrapped {border: 1px dashed gray;margin: 0 0.4em 0.5em 0.4em;box-sizing: border-box;padding-bottom: 0.4em;background-color: white;}#sk-container-id-1 div.sk-label label {font-family: monospace;font-weight: bold;display: inline-block;line-height: 1.2em;}#sk-container-id-1 div.sk-label-container {text-align: center;}#sk-container-id-1 div.sk-container {/* jupyter's `normalize.less` sets `[hidden] { display: none; }` but bootstrap.min.css set `[hidden] { display: none !important; }` so we also need the `!important` here to be able to override the default hidden behavior on the sphinx rendered scikit-learn.org. See: https://github.com/scikit-learn/scikit-learn/issues/21755 */display: inline-block !important;position: relative;}#sk-container-id-1 div.sk-text-repr-fallback {display: none;}</style><div id=\"sk-container-id-1\" class=\"sk-top-container\"><div class=\"sk-text-repr-fallback\"><pre>XGBClassifier(base_score=0.5, booster=&#x27;gbtree&#x27;, callbacks=None,\n",
       "              colsample_bylevel=1, colsample_bynode=1, colsample_bytree=1,\n",
       "              early_stopping_rounds=None, enable_categorical=False,\n",
       "              eval_metric=None, feature_types=None, gamma=0, gpu_id=-1,\n",
       "              grow_policy=&#x27;depthwise&#x27;, importance_type=None,\n",
       "              interaction_constraints=&#x27;&#x27;, learning_rate=0.300000012,\n",
       "              max_bin=256, max_cat_threshold=64, max_cat_to_onehot=4,\n",
       "              max_delta_step=0, max_depth=6, max_leaves=0, min_child_weight=1,\n",
       "              missing=nan, monotone_constraints=&#x27;()&#x27;, n_estimators=100,\n",
       "              n_jobs=0, num_parallel_tree=1, predictor=&#x27;auto&#x27;, random_state=0, ...)</pre><b>In a Jupyter environment, please rerun this cell to show the HTML representation or trust the notebook. <br />On GitHub, the HTML representation is unable to render, please try loading this page with nbviewer.org.</b></div><div class=\"sk-container\" hidden><div class=\"sk-item\"><div class=\"sk-estimator sk-toggleable\"><input class=\"sk-toggleable__control sk-hidden--visually\" id=\"sk-estimator-id-1\" type=\"checkbox\" checked><label for=\"sk-estimator-id-1\" class=\"sk-toggleable__label sk-toggleable__label-arrow\">XGBClassifier</label><div class=\"sk-toggleable__content\"><pre>XGBClassifier(base_score=0.5, booster=&#x27;gbtree&#x27;, callbacks=None,\n",
       "              colsample_bylevel=1, colsample_bynode=1, colsample_bytree=1,\n",
       "              early_stopping_rounds=None, enable_categorical=False,\n",
       "              eval_metric=None, feature_types=None, gamma=0, gpu_id=-1,\n",
       "              grow_policy=&#x27;depthwise&#x27;, importance_type=None,\n",
       "              interaction_constraints=&#x27;&#x27;, learning_rate=0.300000012,\n",
       "              max_bin=256, max_cat_threshold=64, max_cat_to_onehot=4,\n",
       "              max_delta_step=0, max_depth=6, max_leaves=0, min_child_weight=1,\n",
       "              missing=nan, monotone_constraints=&#x27;()&#x27;, n_estimators=100,\n",
       "              n_jobs=0, num_parallel_tree=1, predictor=&#x27;auto&#x27;, random_state=0, ...)</pre></div></div></div></div></div>"
      ],
      "text/plain": [
       "XGBClassifier(base_score=0.5, booster='gbtree', callbacks=None,\n",
       "              colsample_bylevel=1, colsample_bynode=1, colsample_bytree=1,\n",
       "              early_stopping_rounds=None, enable_categorical=False,\n",
       "              eval_metric=None, feature_types=None, gamma=0, gpu_id=-1,\n",
       "              grow_policy='depthwise', importance_type=None,\n",
       "              interaction_constraints='', learning_rate=0.300000012,\n",
       "              max_bin=256, max_cat_threshold=64, max_cat_to_onehot=4,\n",
       "              max_delta_step=0, max_depth=6, max_leaves=0, min_child_weight=1,\n",
       "              missing=nan, monotone_constraints='()', n_estimators=100,\n",
       "              n_jobs=0, num_parallel_tree=1, predictor='auto', random_state=0, ...)"
      ]
     },
     "execution_count": 19,
     "metadata": {},
     "output_type": "execute_result"
    }
   ],
   "source": [
    "estimator = xgb.XGBClassifier()\n",
    "X_train, y_train, _, _ = dset.get_pandas(\"train\")\n",
    "estimator.fit(X_train,y_train)"
   ]
  },
  {
   "cell_type": "markdown",
   "metadata": {},
   "source": [
    "Test in-domain train on id test."
   ]
  },
  {
   "cell_type": "code",
   "execution_count": 20,
   "metadata": {},
   "outputs": [
    {
     "data": {
      "text/plain": [
       "0.9350627861531258"
      ]
     },
     "execution_count": 20,
     "metadata": {},
     "output_type": "execute_result"
    }
   ],
   "source": [
    "X_te, y_te, _, _ = dset.get_pandas(\"id_test\")\n",
    "yhat_te = estimator.predict(X_te)\n",
    "acc = accuracy_score(y_true=y_te, y_pred=yhat_te)\n",
    "acc"
   ]
  },
  {
   "cell_type": "markdown",
   "metadata": {},
   "source": [
    "Test in-domain train on ood test."
   ]
  },
  {
   "cell_type": "code",
   "execution_count": 21,
   "metadata": {},
   "outputs": [
    {
     "data": {
      "text/plain": [
       "Index(['hint_count', 'attempt_count', 'ms_first_response', 'position',\n",
       "       'overlap_time', 'Average_confidence(FRUSTRATED)',\n",
       "       'Average_confidence(CONFUSED)', 'Average_confidence(CONCENTRATING)',\n",
       "       'Average_confidence(BORED)', 'problem_type_choose_1',\n",
       "       'problem_type_algebra', 'problem_type_fill_in_1', 'problem_type_rank',\n",
       "       'problem_type_choose_n', 'problem_type_open_response',\n",
       "       'tutor_mode_tutor', 'tutor_mode_test', 'type_LinearSection',\n",
       "       'type_MasterySection', 'type_RandomChildOrderSection',\n",
       "       'type_RandomIterateSection', 'type_PlacementsSection',\n",
       "       'type_ChooseConditionSection', 'type_NumericLimitSection',\n",
       "       'bottom_hint', 'first_action'],\n",
       "      dtype='object')"
      ]
     },
     "execution_count": 21,
     "metadata": {},
     "output_type": "execute_result"
    }
   ],
   "source": [
    "X_te, y_te, _, _ = dset.get_pandas(\"ood_test\")\n",
    "X_te.columns"
   ]
  },
  {
   "cell_type": "code",
   "execution_count": 22,
   "metadata": {},
   "outputs": [
    {
     "data": {
      "text/plain": [
       "0.9101652958556257"
      ]
     },
     "execution_count": 22,
     "metadata": {},
     "output_type": "execute_result"
    }
   ],
   "source": [
    "yhat_te = estimator.predict(X_te)\n",
    "acc = accuracy_score(y_true=y_te, y_pred=yhat_te)\n",
    "acc"
   ]
  },
  {
   "cell_type": "code",
   "execution_count": 23,
   "metadata": {},
   "outputs": [
    {
     "data": {
      "text/plain": [
       "(0.9050214080347108, 0.915117614315424)"
      ]
     },
     "execution_count": 23,
     "metadata": {},
     "output_type": "execute_result"
    }
   ],
   "source": [
    "nobs = len(y_te)\n",
    "count = nobs * acc\n",
    "# beta : Clopper-Pearson interval based on Beta distribution\n",
    "acc_conf = proportion_confint(count, nobs, alpha=0.05, method=\"beta\")\n",
    "acc_conf"
   ]
  },
  {
   "cell_type": "markdown",
   "metadata": {},
   "source": [
    "Perform cross-validation on ood test set"
   ]
  },
  {
   "cell_type": "code",
   "execution_count": 24,
   "metadata": {},
   "outputs": [
    {
     "data": {
      "text/plain": [
       "array([0.93293413, 0.93413174, 0.93932136, 0.93690096, 0.92492013])"
      ]
     },
     "execution_count": 24,
     "metadata": {},
     "output_type": "execute_result"
    }
   ],
   "source": [
    "X_te, y_te, _, _ = dset.get_pandas(\"ood_test\")\n",
    "estimator = estimator = xgb.XGBClassifier()\n",
    "cross_val_score(estimator, X_te, y_te, cv=5)"
   ]
  },
  {
   "cell_type": "markdown",
   "metadata": {},
   "source": [
    "# Experiments for 100 random subsets"
   ]
  },
  {
   "cell_type": "code",
   "execution_count": 4,
   "metadata": {},
   "outputs": [
    {
     "name": "stdout",
     "output_type": "stream",
     "text": [
      "skillbuilder-data-2009-2010.zip: Skipping, found more recently modified local copy (use --force to force download)\n",
      "training completed! id_test accuracy: 0.9253\n",
      "training completed! ood_test accuracy: 0.9100\n",
      "training completed! validation accuracy: 0.9257\n",
      "skillbuilder-data-2009-2010.zip: Skipping, found more recently modified local copy (use --force to force download)\n",
      "training completed! id_test accuracy: 0.7762\n",
      "training completed! ood_test accuracy: 0.7323\n",
      "training completed! validation accuracy: 0.7751\n",
      "skillbuilder-data-2009-2010.zip: Skipping, found more recently modified local copy (use --force to force download)\n",
      "training completed! id_test accuracy: 0.8779\n",
      "training completed! ood_test accuracy: 0.4460\n",
      "training completed! validation accuracy: 0.8778\n",
      "skillbuilder-data-2009-2010.zip: Skipping, found more recently modified local copy (use --force to force download)\n",
      "training completed! id_test accuracy: 0.9324\n",
      "training completed! ood_test accuracy: 0.9099\n",
      "training completed! validation accuracy: 0.9320\n",
      "skillbuilder-data-2009-2010.zip: Skipping, found more recently modified local copy (use --force to force download)\n",
      "training completed! id_test accuracy: 0.8195\n",
      "training completed! ood_test accuracy: 0.7315\n",
      "training completed! validation accuracy: 0.8198\n",
      "skillbuilder-data-2009-2010.zip: Skipping, found more recently modified local copy (use --force to force download)\n",
      "training completed! id_test accuracy: 0.8658\n",
      "training completed! ood_test accuracy: 0.5813\n",
      "training completed! validation accuracy: 0.8657\n",
      "skillbuilder-data-2009-2010.zip: Skipping, found more recently modified local copy (use --force to force download)\n",
      "training completed! id_test accuracy: 0.8531\n",
      "training completed! ood_test accuracy: 0.5787\n",
      "training completed! validation accuracy: 0.8528\n",
      "skillbuilder-data-2009-2010.zip: Skipping, found more recently modified local copy (use --force to force download)\n"
     ]
    }
   ],
   "source": [
    "import json\n",
    "from lightgbm import LGBMClassifier\n",
    "for index in range (500):\n",
    "    experiment = f\"assistments_random_test_{index}\"\n",
    "    model = \"lightgbm\"\n",
    "    cache_dir = \"../tmp\"\n",
    "    save_dir= Path(\"../tmp\")\n",
    "    dset = get_dataset(experiment, cache_dir)\n",
    "\n",
    "    estimator = LGBMClassifier()\n",
    "    X_train, y_train, _, _ = dset.get_pandas(\"train\")\n",
    "    estimator.fit(X_train,y_train)\n",
    "\n",
    "    evaluation = {}\n",
    "    test_splits = [\"id_test\", \"ood_test\", \"validation\"]\n",
    "    for test_split in test_splits:\n",
    "        # Fetch predictions and labels for a sklearn model.\n",
    "        X_te, y_te, _, _ = dset.get_pandas(test_split)\n",
    "        X_te = X_te.astype(float)\n",
    "        yhat_te = estimator.predict(X_te)\n",
    "\n",
    "        # Calculate accuracy\n",
    "        acc = accuracy_score(y_true=y_te, y_pred=yhat_te)\n",
    "        evaluation[test_split] = acc\n",
    "        nobs = len(y_te)\n",
    "        count = nobs * acc\n",
    "        # beta : Clopper-Pearson interval based on Beta distribution\n",
    "        acc_conf = proportion_confint(count, nobs, alpha=0.05, method=\"beta\")\n",
    "        evaluation[test_split + \"_conf\"] = acc_conf\n",
    "        print(f\"training completed! {test_split} accuracy: {acc:.4f}\")\n",
    "         # Open a file in write mode\n",
    "        SAVE_DIR_EXP = save_dir / experiment\n",
    "        SAVE_DIR_EXP.mkdir(exist_ok=True)\n",
    "        with open(f\"{str(SAVE_DIR_EXP)}/{model}_eval.json\", \"w\") as f:\n",
    "            # Use json.dump to write the dictionary into the file\n",
    "            evaluation[\"features\"] = dset.predictors\n",
    "            json.dump(evaluation, f)"
   ]
  }
 ],
 "metadata": {
  "kernelspec": {
   "display_name": "causaldiscovery",
   "language": "python",
   "name": "python3"
  },
  "language_info": {
   "codemirror_mode": {
    "name": "ipython",
    "version": 3
   },
   "file_extension": ".py",
   "mimetype": "text/x-python",
   "name": "python",
   "nbconvert_exporter": "python",
   "pygments_lexer": "ipython3",
   "version": "3.9.19"
  },
  "orig_nbformat": 4
 },
 "nbformat": 4,
 "nbformat_minor": 2
}
