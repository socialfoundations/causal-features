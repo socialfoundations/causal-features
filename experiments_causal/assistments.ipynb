{
 "cells": [
  {
   "cell_type": "code",
   "execution_count": 48,
   "metadata": {},
   "outputs": [],
   "source": [
    "\"\"\"Python script to run experiment and record the performance.\"\"\"\n",
    "import argparse\n",
    "from pathlib import Path\n",
    "import torch\n",
    "from sklearn.metrics import accuracy_score\n",
    "import json\n",
    "from statsmodels.stats.proportion import proportion_confint\n",
    "\n",
    "from tableshift import get_dataset\n",
    "from tableshift.models.training import train\n",
    "from tableshift.models.utils import get_estimator\n",
    "from tableshift.models.default_hparams import get_default_config\n",
    "from experiments_causal.metrics import balanced_accuracy_score\n",
    "from sklearn.model_selection import cross_val_score\n"
   ]
  },
  {
   "cell_type": "markdown",
   "metadata": {},
   "source": [
    "# Experiment with all features"
   ]
  },
  {
   "cell_type": "code",
   "execution_count": 49,
   "metadata": {},
   "outputs": [],
   "source": [
    "experiment = \"assistments\"\n",
    "model = \"xgb\"\n",
    "cache_dir = \"../tmp\"\n",
    "save_dir= \"../tmp\""
   ]
  },
  {
   "cell_type": "code",
   "execution_count": 50,
   "metadata": {},
   "outputs": [
    {
     "name": "stdout",
     "output_type": "stream",
     "text": [
      "skillbuilder-data-2009-2010.zip: Skipping, found more recently modified local copy (use --force to force download)\n"
     ]
    }
   ],
   "source": [
    "dset = get_dataset(experiment, cache_dir)\n",
    "config = get_default_config(model, dset)\n",
    "estimator = get_estimator(model, **config)"
   ]
  },
  {
   "cell_type": "markdown",
   "metadata": {},
   "source": [
    "Train on in-domain train set"
   ]
  },
  {
   "cell_type": "code",
   "execution_count": 51,
   "metadata": {},
   "outputs": [],
   "source": [
    "estimator = get_estimator(model, **config)\n",
    "estimator = train(estimator, dset, config=config)"
   ]
  },
  {
   "cell_type": "markdown",
   "metadata": {},
   "source": [
    "Test in-domain train on id test."
   ]
  },
  {
   "cell_type": "code",
   "execution_count": 52,
   "metadata": {},
   "outputs": [
    {
     "data": {
      "text/plain": [
       "0.9404725283794633"
      ]
     },
     "execution_count": 52,
     "metadata": {},
     "output_type": "execute_result"
    }
   ],
   "source": [
    "X_te, y_te, _, _ = dset.get_pandas(\"id_test\")\n",
    "yhat_te = estimator.predict(X_te)\n",
    "acc = accuracy_score(y_true=y_te, y_pred=yhat_te)\n",
    "acc"
   ]
  },
  {
   "cell_type": "markdown",
   "metadata": {},
   "source": [
    "Test in-domain train on ood test."
   ]
  },
  {
   "cell_type": "code",
   "execution_count": 53,
   "metadata": {},
   "outputs": [
    {
     "data": {
      "text/plain": [
       "Index(['hint_count', 'attempt_count', 'ms_first_response', 'position',\n",
       "       'overlap_time', 'Average_confidence(FRUSTRATED)',\n",
       "       'Average_confidence(CONFUSED)', 'Average_confidence(CONCENTRATING)',\n",
       "       'Average_confidence(BORED)', 'problem_type_algebra',\n",
       "       'problem_type_fill_in_1', 'problem_type_choose_1',\n",
       "       'problem_type_choose_n', 'problem_type_rank',\n",
       "       'problem_type_open_response', 'tutor_mode_tutor', 'type_LinearSection',\n",
       "       'type_MasterySection', 'type_RandomChildOrderSection',\n",
       "       'type_RandomIterateSection', 'type_PlacementsSection',\n",
       "       'type_ChooseConditionSection', 'type_NumericLimitSection',\n",
       "       'bottom_hint', 'skill_id', 'first_action'],\n",
       "      dtype='object')"
      ]
     },
     "execution_count": 53,
     "metadata": {},
     "output_type": "execute_result"
    }
   ],
   "source": [
    "X_te, y_te, _, _ = dset.get_pandas(\"ood_test\")\n",
    "X_te.columns"
   ]
  },
  {
   "cell_type": "code",
   "execution_count": 54,
   "metadata": {},
   "outputs": [
    {
     "data": {
      "text/plain": [
       "0.5839454354669464"
      ]
     },
     "execution_count": 54,
     "metadata": {},
     "output_type": "execute_result"
    }
   ],
   "source": [
    "yhat_te = estimator.predict(X_te)\n",
    "acc = accuracy_score(y_true=y_te, y_pred=yhat_te)\n",
    "acc"
   ]
  },
  {
   "cell_type": "code",
   "execution_count": 55,
   "metadata": {},
   "outputs": [
    {
     "data": {
      "text/plain": [
       "(0.5614396708422, 0.6061924645119001)"
      ]
     },
     "execution_count": 55,
     "metadata": {},
     "output_type": "execute_result"
    }
   ],
   "source": [
    "nobs = len(y_te)\n",
    "count = nobs * acc\n",
    "# beta : Clopper-Pearson interval based on Beta distribution\n",
    "acc_conf = proportion_confint(count, nobs, alpha=0.05, method=\"beta\")\n",
    "acc_conf"
   ]
  },
  {
   "cell_type": "markdown",
   "metadata": {},
   "source": [
    "Perform cross-validation on ood test set"
   ]
  },
  {
   "cell_type": "code",
   "execution_count": 56,
   "metadata": {},
   "outputs": [
    {
     "data": {
      "text/plain": [
       "array([0.7513089 , 0.7664042 , 0.77952756, 0.75853018, 0.75328084])"
      ]
     },
     "execution_count": 56,
     "metadata": {},
     "output_type": "execute_result"
    }
   ],
   "source": [
    "X_te, y_te, _, _ = dset.get_pandas(\"ood_test\")\n",
    "config = get_default_config(model, dset)\n",
    "estimator = get_estimator(model, **config)\n",
    "cross_val_score(estimator, X_te, y_te, cv=5)"
   ]
  },
  {
   "cell_type": "markdown",
   "metadata": {},
   "source": [
    "# Experiments with a random subset (no 228)"
   ]
  },
  {
   "cell_type": "code",
   "execution_count": 57,
   "metadata": {},
   "outputs": [],
   "source": [
    "experiment = \"assistments_random_test_228\"\n",
    "model = \"xgb\"\n",
    "cache_dir = \"../tmp\"\n",
    "save_dir= \"../tmp\""
   ]
  },
  {
   "cell_type": "code",
   "execution_count": 58,
   "metadata": {},
   "outputs": [
    {
     "name": "stdout",
     "output_type": "stream",
     "text": [
      "skillbuilder-data-2009-2010.zip: Skipping, found more recently modified local copy (use --force to force download)\n"
     ]
    }
   ],
   "source": [
    "dset = get_dataset(experiment, cache_dir)\n",
    "config = get_default_config(model, dset)\n",
    "estimator = get_estimator(model, **config)"
   ]
  },
  {
   "cell_type": "markdown",
   "metadata": {},
   "source": [
    "Train on in-domain train set"
   ]
  },
  {
   "cell_type": "code",
   "execution_count": 59,
   "metadata": {},
   "outputs": [],
   "source": [
    "estimator = get_estimator(model, **config)\n",
    "estimator = train(estimator, dset, config=config)"
   ]
  },
  {
   "cell_type": "markdown",
   "metadata": {},
   "source": [
    "Test in-domain train on id test."
   ]
  },
  {
   "cell_type": "code",
   "execution_count": 60,
   "metadata": {},
   "outputs": [
    {
     "data": {
      "text/plain": [
       "0.9259141594399299"
      ]
     },
     "execution_count": 60,
     "metadata": {},
     "output_type": "execute_result"
    }
   ],
   "source": [
    "X_te, y_te, _, _ = dset.get_pandas(\"id_test\")\n",
    "yhat_te = estimator.predict(X_te)\n",
    "acc = accuracy_score(y_true=y_te, y_pred=yhat_te)\n",
    "acc"
   ]
  },
  {
   "cell_type": "markdown",
   "metadata": {},
   "source": [
    "Test in-domain train on ood test."
   ]
  },
  {
   "cell_type": "code",
   "execution_count": 61,
   "metadata": {},
   "outputs": [
    {
     "data": {
      "text/plain": [
       "Index(['hint_count', 'attempt_count', 'ms_first_response', 'overlap_time',\n",
       "       'Average_confidence(FRUSTRATED)', 'Average_confidence(CONFUSED)',\n",
       "       'Average_confidence(CONCENTRATING)', 'problem_type_choose_1',\n",
       "       'problem_type_algebra', 'problem_type_fill_in_1', 'problem_type_rank',\n",
       "       'problem_type_choose_n', 'problem_type_open_response', 'bottom_hint',\n",
       "       'first_action'],\n",
       "      dtype='object')"
      ]
     },
     "execution_count": 61,
     "metadata": {},
     "output_type": "execute_result"
    }
   ],
   "source": [
    "X_te, y_te, _, _ = dset.get_pandas(\"ood_test\")\n",
    "X_te.columns"
   ]
  },
  {
   "cell_type": "code",
   "execution_count": 62,
   "metadata": {},
   "outputs": [
    {
     "data": {
      "text/plain": [
       "0.9100055897149245"
      ]
     },
     "execution_count": 62,
     "metadata": {},
     "output_type": "execute_result"
    }
   ],
   "source": [
    "yhat_te = estimator.predict(X_te)\n",
    "acc = accuracy_score(y_true=y_te, y_pred=yhat_te)\n",
    "acc"
   ]
  },
  {
   "cell_type": "code",
   "execution_count": 63,
   "metadata": {},
   "outputs": [
    {
     "data": {
      "text/plain": [
       "(0.9048577313117038, 0.9149619549378666)"
      ]
     },
     "execution_count": 63,
     "metadata": {},
     "output_type": "execute_result"
    }
   ],
   "source": [
    "nobs = len(y_te)\n",
    "count = nobs * acc\n",
    "# beta : Clopper-Pearson interval based on Beta distribution\n",
    "acc_conf = proportion_confint(count, nobs, alpha=0.05, method=\"beta\")\n",
    "acc_conf"
   ]
  },
  {
   "cell_type": "markdown",
   "metadata": {},
   "source": [
    "Perform cross-validation on ood test set"
   ]
  },
  {
   "cell_type": "code",
   "execution_count": 64,
   "metadata": {},
   "outputs": [
    {
     "data": {
      "text/plain": [
       "array([0.9249501 , 0.92255489, 0.92694611, 0.92731629, 0.91733227])"
      ]
     },
     "execution_count": 64,
     "metadata": {},
     "output_type": "execute_result"
    }
   ],
   "source": [
    "X_te, y_te, _, _ = dset.get_pandas(\"ood_test\")\n",
    "config = get_default_config(model, dset)\n",
    "estimator = get_estimator(model, **config)\n",
    "cross_val_score(estimator, X_te, y_te, cv=5)"
   ]
  }
 ],
 "metadata": {
  "kernelspec": {
   "display_name": "causaldiscovery",
   "language": "python",
   "name": "python3"
  },
  "language_info": {
   "codemirror_mode": {
    "name": "ipython",
    "version": 3
   },
   "file_extension": ".py",
   "mimetype": "text/x-python",
   "name": "python",
   "nbconvert_exporter": "python",
   "pygments_lexer": "ipython3",
   "version": "3.9.19"
  },
  "orig_nbformat": 4
 },
 "nbformat": 4,
 "nbformat_minor": 2
}
